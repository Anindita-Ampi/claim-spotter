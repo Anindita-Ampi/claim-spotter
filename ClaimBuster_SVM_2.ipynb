{
  "cells": [
    {
      "cell_type": "markdown",
      "source": [
        "This code is for **training on Claimbuster** dataset and **test on CLEF2019** dataset."
      ],
      "metadata": {
        "id": "XnuvijrEYhji"
      }
    },
    {
      "cell_type": "markdown",
      "metadata": {
        "id": "BeBT8QjX9iT9"
      },
      "source": [
        "# Imports"
      ]
    },
    {
      "cell_type": "markdown",
      "metadata": {
        "id": "XsTE4bSmUDa0"
      },
      "source": [
        "Load imports and define which parts of speech we will use as features in the model."
      ]
    },
    {
      "cell_type": "code",
      "execution_count": 6,
      "metadata": {
        "colab": {
          "base_uri": "https://localhost:8080/"
        },
        "id": "B1XYtFmSUCjm",
        "outputId": "7fec7722-699c-449c-f1cc-0e37448bb834"
      },
      "outputs": [
        {
          "output_type": "stream",
          "name": "stderr",
          "text": [
            "[nltk_data] Downloading package punkt to /root/nltk_data...\n",
            "[nltk_data]   Unzipping tokenizers/punkt.zip.\n",
            "[nltk_data] Downloading package averaged_perceptron_tagger to\n",
            "[nltk_data]     /root/nltk_data...\n",
            "[nltk_data]   Unzipping taggers/averaged_perceptron_tagger.zip.\n"
          ]
        },
        {
          "output_type": "execute_result",
          "data": {
            "text/plain": [
              "True"
            ]
          },
          "metadata": {},
          "execution_count": 6
        }
      ],
      "source": [
        "# Copyright (C) 2020 IDIR Lab - UT Arlington\n",
        "#\n",
        "#     This program is free software: you can redistribute it and/or modify\n",
        "#     it under the terms of the GNU General Public License v3 as published by\n",
        "#     the Free Software Foundation.\n",
        "#\n",
        "#     This program is distributed in the hope that it will be useful,\n",
        "#     but WITHOUT ANY WARRANTY; without even the implied warranty of\n",
        "#     MERCHANTABILITY or FITNESS FOR A PARTICULAR PURPOSE. See the\n",
        "#     GNU General Public License for more details.\n",
        "#\n",
        "#     You should have received a copy of the GNU General Public License\n",
        "#     along with this program.  If not, see <https://www.gnu.org/licenses/>.\n",
        "#\n",
        "# Contact Information:\n",
        "#     See: https://idir.uta.edu/cli.html\n",
        "#\n",
        "#     Chengkai Li\n",
        "#     Box 19015\n",
        "#     Arlington, TX 76019\n",
        "#\n",
        "\n",
        "import csv\n",
        "import json\n",
        "import math\n",
        "import os\n",
        "import pickle\n",
        "import joblib\n",
        "import nltk\n",
        "import numpy as np\n",
        "import pandas as pd\n",
        "import sklearn.metrics as mt\n",
        "import matplotlib.pyplot as plt\n",
        "from shutil import rmtree\n",
        "from copy import deepcopy\n",
        "from itertools import chain\n",
        "from itertools import product\n",
        "from nltk import pos_tag\n",
        "from nltk import word_tokenize\n",
        "from numpy import argmax, interp, random\n",
        "from sklearn.utils._testing import ignore_warnings\n",
        "from sklearn.exceptions import ConvergenceWarning, UndefinedMetricWarning\n",
        "from sklearn.feature_extraction.text import CountVectorizer, TfidfVectorizer\n",
        "from sklearn.model_selection import StratifiedKFold\n",
        "from sklearn.preprocessing import normalize\n",
        "from sklearn.svm import LinearSVC\n",
        "from sklearn.neighbors import KernelDensity\n",
        "\n",
        "\n",
        "POS = [\n",
        "    'MD', 'VBN', 'PRP$', 'CD', 'NNS', 'RBR', 'LS', 'WP', 'JJR', 'RB', 'WP$', 'VBZ', '-LRB-', 'CC', 'JJ', \n",
        "    '$', ':', 'VBG', \"''\", ',', 'WDT', 'EX', 'PDT', 'RP', '``', 'NNPS', 'NNP', 'FW', 'VB', 'PRP', 'RBS', \n",
        "    'DT', 'WRB', 'NN', '.', '-NONE-', 'IN', 'TO', 'UH', 'VBD', 'POS', 'VBP', 'JJS', 'SYM', '(', ')'\n",
        "]\n",
        "\n",
        "nltk.download('punkt')\n",
        "nltk.download('averaged_perceptron_tagger')"
      ]
    },
    {
      "cell_type": "markdown",
      "metadata": {
        "id": "UDVC7HHG9qx4"
      },
      "source": [
        "# Helper Functions"
      ]
    },
    {
      "cell_type": "markdown",
      "metadata": {
        "id": "C1lEqCV1UNB-"
      },
      "source": [
        "## Metrics Functions\n",
        "Define helper functions to compute metrics."
      ]
    },
    {
      "cell_type": "code",
      "execution_count": 7,
      "metadata": {
        "id": "yKSdaq-nUXPV"
      },
      "outputs": [],
      "source": [
        "def compute_kde(x):\n",
        "    # https://scikit-learn.org/stable/auto_examples/neighbors/plot_kde_1d.html\n",
        "    x = np.asarray(x).reshape(-1, 1)\n",
        "    X_plot = np.linspace(0, 1, len(x))[:, np.newaxis]\n",
        "    fig, ax = plt.subplots()\n",
        "    colors = ['darkorange']\n",
        "    kernels = ['gaussian']\n",
        "    lw = 15\n",
        "\n",
        "    for color, kernel in zip(colors, kernels):\n",
        "        kde = KernelDensity(kernel=kernel, bandwidth=0.10).fit(x)\n",
        "        log_dens = kde.score_samples(X_plot)\n",
        "        ax.plot(X_plot[:, 0], np.exp(log_dens), color=color, lw=lw, linestyle='-')\n",
        "\n",
        "    ax.legend().remove()\n",
        "    ax.plot(x[:, 0], -0.005 - 0.01 * random.random(x.shape[0]), '+k', markersize=lw)\n",
        "\n",
        "    ax.set_xlim(0, 1)\n",
        "    ax.set_ylim(-0.06, 1.75)\n",
        "    plt.show()\n",
        "\n",
        "def compute_precisions(labels, scores, cutoff=None):\n",
        "    # https://github.com/apepa/clef2019-factchecking-task1/blob/master/scorer/task1.py#L81\n",
        "    combined = sorted([(scores[i], labels[i]) for i in range(len(scores))], reverse=True)\n",
        "    cutoff = min(cutoff or math.inf, len(combined))\n",
        "    combined = combined[:cutoff]\n",
        "    precisions = [0.0] * cutoff\n",
        "\n",
        "    for i, x in enumerate(combined):\n",
        "        if x[1] == 1:\n",
        "            precisions[i] += 1.0\n",
        "\n",
        "    for i in range(1, cutoff): # accumulate\n",
        "        precisions[i] += precisions[i - 1]\n",
        "    for i in range(1, cutoff): # normalize\n",
        "        precisions[i] /= i+1\n",
        "\n",
        "    return precisions\n",
        "\n",
        "\n",
        "def compute_average_precision(labels, scores, cutoff=None):\n",
        "    # https://github.com/apepa/clef2019-factchecking-task1/blob/master/scorer/task1.py#L52\n",
        "    combined = sorted([(scores[i], labels[i]) for i in range(len(scores))], reverse=True)\n",
        "    cutoff = min(cutoff or math.inf, len(combined))\n",
        "    combined = combined[:cutoff]\n",
        "    labels = [x[1] for x in combined]\n",
        "    precisions = []\n",
        "    num_correct = 0\n",
        "    num_positive = sum(labels)\n",
        "\n",
        "    for i, x in enumerate(combined):\n",
        "        if x[1] == 1:\n",
        "            num_correct += 1\n",
        "            precisions.append(num_correct / (i + 1))\n",
        "    \n",
        "    if precisions:\n",
        "        avg_prec = sum(precisions) / num_positive\n",
        "    else:\n",
        "        avg_prec = 0.0\n",
        "\n",
        "    return avg_prec\n",
        "\n",
        "def compute_dcg_term(i, labels, ver=1):\n",
        "    # Difference between version 0 and 1: https://en.wikipedia.org/wiki/Discounted_cumulative_gain#Discounted_Cumulative_Gain\n",
        "    return labels[i - 1] / math.log2(i + 1) if ver == 0 else ((1 << labels[i - 1]) - 1) / math.log2(i + 1)\n",
        "\n",
        "\n",
        "def compute_ndcg(labels, scores, cutoff=None):\n",
        "    # Precondition: for each index i, scores[i] corresponds with labels[i]\n",
        "    ver = 0\n",
        "    combined = sorted([(scores[i], labels[i]) for i in range(len(scores))], reverse=True)\n",
        "    cutoff = min(cutoff or math.inf, len(combined))\n",
        "    combined = combined[:cutoff]\n",
        "    labels = [x[1] for x in combined]\n",
        "\n",
        "    dcg = sum([compute_dcg_term(i, labels, ver=ver) for i in range(1, len(labels) + 1, 1)])\n",
        "    ideal_labels = sorted(labels, reverse=True)\n",
        "    idcg = sum([compute_dcg_term(i, ideal_labels, ver=ver) for i in range(1, len(labels) + 1, 1)])\n",
        "\n",
        "    try:\n",
        "        return dcg / idcg\n",
        "    except ZeroDivisionError:\n",
        "        return dcg / 0.0000000000001"
      ]
    },
    {
      "cell_type": "markdown",
      "metadata": {
        "id": "D0yTGSjiUyma"
      },
      "source": [
        "## Feature Vector Functions\n",
        "Helper functions to generate different parts of feature vector."
      ]
    },
    {
      "cell_type": "code",
      "execution_count": 8,
      "metadata": {
        "id": "NkpG9VuiU2yI"
      },
      "outputs": [],
      "source": [
        "def get_ngram(file_name, tf_idf_vect, data, n, store_vocab=False, set_index=None):\n",
        "    sentence_term_tfidf = tf_idf_vect.transform(data.text)\n",
        "    sentence_term_df = pd.DataFrame(sentence_term_tfidf.todense(), columns=np.sort(list(tf_idf_vect.vocabulary_.keys())))\n",
        "\n",
        "    if set_index is not None:\n",
        "        sentence_term_df = sentence_term_df.set_index(set_index)\n",
        "\n",
        "    if store_vocab:\n",
        "        pd.DataFrame(sentence_term_df.columns).to_csv(\"models/vocabulary_\" + file_name + \".txt\", encoding='utf-8', index=False)\n",
        "\n",
        "    sentence_term_df.columns = sentence_term_df.columns.map(lambda x: 'W_' + str(n) + '_' + x)\n",
        "\n",
        "    return sentence_term_df\n",
        "\n",
        "\n",
        "def get_pos(data, n):\n",
        "    POSn = {x: 0 for x in product(POS, repeat=n)}\n",
        "    data_pos = pd.DataFrame(columns=POSn.keys())\n",
        "    data_pos.columns = data_pos.columns.map(lambda x: 'P_' + str(n) + '_' + '_'.join(x))\n",
        "\n",
        "    for idx, r in data.iterrows():\n",
        "        POSn = {x: 0 for x in product(POS, repeat=n)}\n",
        "        token_pos = pos_tag(word_tokenize(r.text))\n",
        "        token_pos = [y for (x, y) in token_pos]\n",
        "        token_pos = zip(*[token_pos[i:] for i in range(n)])\n",
        "\n",
        "        for tp in token_pos:\n",
        "            POSn[tp] += 1\n",
        "\n",
        "        data_pos.loc[idx] = list(POSn.values())\n",
        "    return data_pos"
      ]
    },
    {
      "cell_type": "markdown",
      "metadata": {
        "id": "GJGJZRWvU5Lk"
      },
      "source": [
        "## Training and Cross Validation Functions\n",
        "Functions to train the final model and perform k-fold cross validation on the dataset."
      ]
    },
    {
      "cell_type": "code",
      "execution_count": 9,
      "metadata": {
        "id": "UDbBtPR1U_Bj"
      },
      "outputs": [],
      "source": [
        "def train_models(file_name, data, clfs, features, labels):\n",
        "    models = []\n",
        "\n",
        "    for feature_regex, feature_types in features:\n",
        "        for clf, name in clfs:\n",
        "            # Prepare training data with appropriate feature set\n",
        "            train_filter_regex = data.filter(regex=feature_regex)\n",
        "            train_filter_regex = train_filter_regex.sort_index(axis=1)\n",
        "\n",
        "            # Train and save the model for later use\n",
        "            clf.fit(train_filter_regex, data[labels])\n",
        "            j = joblib.dump(clf, 'models/' + name + '_' + feature_types + '_' + file_name + '.pkl')\n",
        "\n",
        "            models += [(name, (feature_regex, feature_types), clf)]\n",
        "\n",
        "            print(\"[\" + file_name + \"] \" + \"Training \" + name + '_' + feature_types + \" complete.\\n\")\n",
        "    return models\n",
        "\n",
        "\n",
        "@ignore_warnings(category=UndefinedMetricWarning)\n",
        "@ignore_warnings(category=ConvergenceWarning)\n",
        "def evaluate(file_name, data, clfs, features, labels, num_folds, num_classes=2):\n",
        "    print(\"K-folds total samples: \", len(data))\n",
        "    kf = StratifiedKFold(n_splits=num_folds, shuffle=True, random_state=2)\n",
        "    fold_count = 1\n",
        "\n",
        "    # ROC plot reference: https://scikit-learn.org/stable/auto_examples/model_selection/plot_roc_crossval.html#sphx-glr-auto-examples-model-selection-plot-roc-crossval-py\n",
        "    for feature_regex, _feature_types in features:\n",
        "        for clf, clf_name in clfs:\n",
        "            cm = np.zeros((num_classes, num_classes)) \n",
        "            avg_ndcg = 0\n",
        "            avg_balanced_accuracy = 0\n",
        "            avg_ap = 0\n",
        "            aggregated_labels = []\n",
        "            aggregated_predictions = []\n",
        "            tprs = []\n",
        "            aucs = []\n",
        "            mean_fpr = np.linspace(0, 1, 100)\n",
        "            fig, ax = plt.subplots()\n",
        "\n",
        "            for train_index, test_index in kf.split(data, data[labels]):\n",
        "                # Mask data for the given fold\n",
        "                train = data.iloc[train_index]\n",
        "                test = data.iloc[test_index]\n",
        "\n",
        "                # Learn vocabulary and idf for the training data\n",
        "                fold_tf_idf_vect = TfidfVectorizer(min_df=1, ngram_range=(n_gram, n_gram))\n",
        "                fold_tf_idf_vect.fit(train.text)\n",
        "\n",
        "                # Vectorize training data\n",
        "                train = pd.concat([train, get_ngram(file_name, fold_tf_idf_vect, train, 1, set_index=train_index)], axis=1)\n",
        "                train = pd.concat([train, get_pos(train, 1)], axis=1)\n",
        "\n",
        "                # Vectorize testing data\n",
        "                test = pd.concat([test, get_ngram(file_name, fold_tf_idf_vect, test, 1, set_index=test_index)], axis=1)\n",
        "                test = pd.concat([test, get_pos(test, 1)], axis=1)\n",
        "\n",
        "                print(\"Fold: {0}, Training Samples: {1}, Testing Samples: {2}\".format(fold_count, len(train), len(test)))\n",
        "\n",
        "                # Train the model for this fold\n",
        "                train_filter_regex = train.filter(regex=feature_regex)\n",
        "                train_filter_regex = train_filter_regex.sort_index(axis=1)\n",
        "                clf.fit(train_filter_regex, train[labels])\n",
        "\n",
        "                # Evaluate the model for this fold\n",
        "                test_filter_regex = test.filter(regex=feature_regex)\n",
        "                test_filter_regex = test_filter_regex.sort_index(axis=1)\n",
        "                predictions = clf.predict(test_filter_regex)\n",
        "\n",
        "                fold_labels_list = test[labels].tolist()\n",
        "\n",
        "                # Aggreate some ROC metrics\n",
        "                viz = mt.plot_roc_curve(clf, test_filter_regex, test[labels], name='ROC fold {}'.format(fold_count), alpha=0.3, lw=1, ax=ax)\n",
        "                interp_tpr = interp(mean_fpr, viz.fpr, viz.tpr)\n",
        "                interp_tpr[0] = 0.0\n",
        "                tprs.append(interp_tpr)\n",
        "                aucs.append(viz.roc_auc)\n",
        "\n",
        "                # Aggregate fold results to generate an aggregated report at the end\n",
        "                aggregated_labels += fold_labels_list\n",
        "                aggregated_predictions += predictions.tolist()\n",
        "\n",
        "                cfs_scores = [x[1] for x in clf._predict_proba_lr(test_filter_regex).tolist()]\n",
        "\n",
        "                ndcg = compute_ndcg(fold_labels_list, cfs_scores)\n",
        "                avg_ndcg += ndcg\n",
        "\n",
        "                balanced_accuracy = mt.balanced_accuracy_score(test[labels], predictions)\n",
        "                avg_balanced_accuracy += balanced_accuracy\n",
        "\n",
        "                average_precision = compute_average_precision(fold_labels_list, cfs_scores)\n",
        "                avg_ap += average_precision\n",
        "\n",
        "                print('########## Classification Report ##########')\n",
        "                print(mt.classification_report(test[labels], predictions, digits=4))\n",
        "                \n",
        "                print('############ Confusion Matrix #############')\n",
        "                print(mt.confusion_matrix(test[labels], predictions), \"\\n\")\n",
        "\n",
        "                print(\"nDCG Score: \", ndcg)\n",
        "                print(\"Average Precision: \", average_precision)\n",
        "                print(\"Balanced Accuracy: \", balanced_accuracy, \"\\n\")\n",
        "                print(\"# --------------------------------------------------------- #\\n\")\n",
        "\n",
        "                cm += mt.confusion_matrix(test[labels], predictions)\n",
        "                fold_count += 1\n",
        "\n",
        "            print('# Aggregated K-Fold Classification Report #')\n",
        "            print(mt.classification_report(aggregated_labels, aggregated_predictions, digits=4))\n",
        "\n",
        "            print('### Aggregated K-Fold Confusion Matrix ####')\n",
        "            print(cm, \"\\n\")\n",
        "\n",
        "            print(\"Average nDCG: \", avg_ndcg / num_folds)\n",
        "            print(\"Mean Average Precision: \", avg_ap / num_folds)\n",
        "            print(\"Average Balanced Accuracy: \", avg_balanced_accuracy / num_folds, \"\\n\")\n",
        "            print(\"# --------------------------------------------------------- #\\n\")\n",
        "\n",
        "            mean_tpr = np.mean(tprs, axis=0)\n",
        "            mean_tpr[-1] = 1.0\n",
        "            mean_auc = mt.auc(mean_fpr, mean_tpr)\n",
        "            std_auc = np.std(aucs)\n",
        "            ax.plot(mean_fpr, mean_tpr, color='b', label=r'Mean ROC (AUC = %0.2f $\\pm$ %0.2f)' % (mean_auc, std_auc), lw=2, alpha=.8)\n",
        "\n",
        "            std_tpr = np.std(tprs, axis=0)\n",
        "            tprs_upper = np.minimum(mean_tpr + std_tpr, 1)\n",
        "            tprs_lower = np.maximum(mean_tpr - std_tpr, 0)\n",
        "            ax.fill_between(mean_fpr, tprs_lower, tprs_upper, color='grey', alpha=.2, label=r'$\\pm$ 1 std. dev.')\n",
        "\n",
        "            ax.set(xlim=[-0.05, 1.05], ylim=[-0.05, 1.05], title=\"[{0}] {1} ROC\".format(file_name, clf_name))\n",
        "            ax.legend(loc=\"lower right\")\n",
        "            plt.show()"
      ]
    },
    {
      "cell_type": "markdown",
      "metadata": {
        "id": "YOxiyDpXVDlR"
      },
      "source": [
        "## Load Trained Model Function\n",
        "Define function to load the trained model and score sentences using it."
      ]
    },
    {
      "cell_type": "code",
      "execution_count": 1,
      "metadata": {
        "id": "4xorAfF2-xC0"
      },
      "outputs": [],
      "source": [
        "def getCFSScore(file_name=None, transcript=\"\", models=[(\"SVM\", (\"length|W_|P_\", \"W_P\"), None)]):\n",
        "    def get_pos_vector(text):\n",
        "        dict_pos_count = {k: 0 for k in POS}\n",
        "        pos_tags = pos_tag(word_tokenize(text))  # TextBlob(text).pos_tags#\n",
        "\n",
        "        for _, tag in pos_tags:\n",
        "            if tag in dict_pos_count.keys():\n",
        "                dict_pos_count[tag] += 1\n",
        "\n",
        "        return dict_pos_count\n",
        "\n",
        "    # Load in the vocabulary and pre-calculated idf\n",
        "    vocabulary = pd.read_csv(os.path.join('models', 'vocabulary_{0}.txt'.format(file_name)))\n",
        "    count_vect = CountVectorizer(vocabulary=vocabulary['0'])\n",
        "    idf_ = pickle.load(open(os.path.join('models', 'idf_{0}'.format(file_name)), 'rb'))\n",
        "\n",
        "    # Convert sentence to dataframe and back up original text before vectorization\n",
        "    sentences = [transcript]\n",
        "    sentences = pd.DataFrame(sentences)\n",
        "    sentences.columns = ['text']\n",
        "    sentences['original_text'] = sentences.text\n",
        "    sentences.text = sentences['original_text'].map(lambda s: s.lower())\n",
        "    sentences['sentence_id'] = sentences.index\n",
        "\n",
        "    # Vectorize the sentence\n",
        "    sentence_word = count_vect.fit_transform(sentences.text)\n",
        "    sentence_word = sentence_word.toarray() * idf_\n",
        "    sentence_word = normalize(sentence_word, axis=1, norm='l2')\n",
        "    sentence_word = pd.DataFrame(sentence_word, columns=vocabulary['0'])\n",
        "    sentence_word = pd.concat([sentences.sentence_id, sentence_word], axis=1)\n",
        "    sentence_word = sentence_word.set_index('sentence_id')\n",
        "    sentence_word.columns = sentence_word.columns.map(lambda x: 'W_1_' + str(x))\n",
        "\n",
        "    # Get the part of speech vector for the sentence\n",
        "    sentence_pos = {sentences.sentence_id[i]: get_pos_vector(sentences.text[i]) for i in sentences.index}\n",
        "    sentence_pos = pd.DataFrame(sentence_pos).T\n",
        "    sentence_pos.columns = sentence_pos.columns.map(lambda x: 'P_1_' + str(x))\n",
        "    sentence_pos.index.names = ['sentence_id']\n",
        "\n",
        "    # Append sentence length info as a feature\n",
        "    sentence_pos['length'] = [len(sentences.loc[id].text.split()) for id in sentences.index]\n",
        "\n",
        "    # Concatenate all the features into one dataframe\n",
        "    data = pd.concat([sentence_pos, sentence_word], axis=1)\n",
        "\n",
        "    # Load in the models and return class prediction probabilities for the input sentence\n",
        "    for name, (feature_regex, feature_types), clf in models:\n",
        "        clf = joblib.load('models/' + name + '_' + feature_types + '_' + file_name + '.pkl')\n",
        "        model_name = clf.__class__.__name__\n",
        "        data_regex = data.filter(regex=feature_regex)\n",
        "        data_regex = data_regex.sort_index(axis=1)\n",
        "\n",
        "        if str(model_name) == 'LinearSVC':\n",
        "            return clf._predict_proba_lr(data_regex)[0]\n",
        "        else:\n",
        "            return clf.predict_proba(data_regex)[0]\n"
      ]
    },
    {
      "cell_type": "markdown",
      "metadata": {
        "id": "v7GQUeMt9u-F"
      },
      "source": [
        "# Get Data and Set Training Options"
      ]
    },
    {
      "cell_type": "markdown",
      "metadata": {
        "id": "1nL1w54JVIz0"
      },
      "source": [
        "Download the necessary data."
      ]
    },
    {
      "cell_type": "code",
      "execution_count": 4,
      "metadata": {
        "id": "0NxMeZf33p42",
        "colab": {
          "base_uri": "https://localhost:8080/"
        },
        "outputId": "0758c586-8335-479e-c9b7-1c26d0deba0f"
      },
      "outputs": [
        {
          "output_type": "stream",
          "name": "stdout",
          "text": [
            "--2022-07-26 04:43:13--  https://github.com/idirlab/claimspotter/raw/master/data/two_class/kfold_25ncs.json\n",
            "Resolving github.com (github.com)... 140.82.114.4\n",
            "Connecting to github.com (github.com)|140.82.114.4|:443... connected.\n",
            "HTTP request sent, awaiting response... 302 Found\n",
            "Location: https://raw.githubusercontent.com/idirlab/claimspotter/master/data/two_class/kfold_25ncs.json [following]\n",
            "--2022-07-26 04:43:13--  https://raw.githubusercontent.com/idirlab/claimspotter/master/data/two_class/kfold_25ncs.json\n",
            "Resolving raw.githubusercontent.com (raw.githubusercontent.com)... 185.199.109.133, 185.199.110.133, 185.199.108.133, ...\n",
            "Connecting to raw.githubusercontent.com (raw.githubusercontent.com)|185.199.109.133|:443... connected.\n",
            "HTTP request sent, awaiting response... 200 OK\n",
            "Length: 1600093 (1.5M) [text/plain]\n",
            "Saving to: ‘claimbuster_dataset.json’\n",
            "\n",
            "\rclaimbuster_dataset   0%[                    ]       0  --.-KB/s               \rclaimbuster_dataset 100%[===================>]   1.53M  --.-KB/s    in 0.06s   \n",
            "\n",
            "2022-07-26 04:43:13 (27.2 MB/s) - ‘claimbuster_dataset.json’ saved [1600093/1600093]\n",
            "\n",
            "--2022-07-26 04:43:14--  https://github.com/idirlab/claimspotter/raw/master/data/clef19/CT19-T1-Training.csv\n",
            "Resolving github.com (github.com)... 140.82.114.4\n",
            "Connecting to github.com (github.com)|140.82.114.4|:443... connected.\n",
            "HTTP request sent, awaiting response... 302 Found\n",
            "Location: https://raw.githubusercontent.com/idirlab/claimspotter/master/data/clef19/CT19-T1-Training.csv [following]\n",
            "--2022-07-26 04:43:14--  https://raw.githubusercontent.com/idirlab/claimspotter/master/data/clef19/CT19-T1-Training.csv\n",
            "Resolving raw.githubusercontent.com (raw.githubusercontent.com)... 185.199.108.133, 185.199.109.133, 185.199.110.133, ...\n",
            "Connecting to raw.githubusercontent.com (raw.githubusercontent.com)|185.199.108.133|:443... connected.\n",
            "HTTP request sent, awaiting response... 200 OK\n",
            "Length: 1660409 (1.6M) [text/plain]\n",
            "Saving to: ‘clef_dataset.tsv’\n",
            "\n",
            "clef_dataset.tsv    100%[===================>]   1.58M  --.-KB/s    in 0.06s   \n",
            "\n",
            "2022-07-26 04:43:14 (28.2 MB/s) - ‘clef_dataset.tsv’ saved [1660409/1660409]\n",
            "\n",
            "--2022-07-26 04:43:14--  https://github.com/idirlab/claimspotter/raw/master/data/clef19/CT19-T1-Test.csv\n",
            "Resolving github.com (github.com)... 140.82.114.4\n",
            "Connecting to github.com (github.com)|140.82.114.4|:443... connected.\n",
            "HTTP request sent, awaiting response... 302 Found\n",
            "Location: https://raw.githubusercontent.com/idirlab/claimspotter/master/data/clef19/CT19-T1-Test.csv [following]\n",
            "--2022-07-26 04:43:14--  https://raw.githubusercontent.com/idirlab/claimspotter/master/data/clef19/CT19-T1-Test.csv\n",
            "Resolving raw.githubusercontent.com (raw.githubusercontent.com)... 185.199.108.133, 185.199.109.133, 185.199.110.133, ...\n",
            "Connecting to raw.githubusercontent.com (raw.githubusercontent.com)|185.199.108.133|:443... connected.\n",
            "HTTP request sent, awaiting response... 200 OK\n",
            "Length: 732879 (716K) [text/plain]\n",
            "Saving to: ‘clef_test.tsv’\n",
            "\n",
            "clef_test.tsv       100%[===================>] 715.70K  --.-KB/s    in 0.05s   \n",
            "\n",
            "2022-07-26 04:43:14 (14.5 MB/s) - ‘clef_test.tsv’ saved [732879/732879]\n",
            "\n"
          ]
        }
      ],
      "source": [
        "!wget -O claimbuster_dataset.json https://github.com/idirlab/claimspotter/raw/master/data/two_class/kfold_25ncs.json\n",
        "!wget -O clef_dataset.tsv https://github.com/idirlab/claimspotter/raw/master/data/clef19/CT19-T1-Training.csv\n",
        "!wget -O clef_test.tsv https://github.com/idirlab/claimspotter/raw/master/data/clef19/CT19-T1-Test.csv"
      ]
    },
    {
      "cell_type": "markdown",
      "metadata": {
        "id": "j7gEgcWnVMiu"
      },
      "source": [
        "The main code to train, perform k-fold cross validation, and post-training evaluation.\n",
        "\n",
        "There are 4 pre-defined training options defined in the `training_options` dictionary:\n",
        "\n",
        "1.   `train_claimbuster_no_test`: Train the model on the ClaimBuster dataset and only do k-fold cross validation. No post training evaluation on a separate test set is performed.\n",
        "2.   `train_claimbuster_test_clef`: Train the model on the ClaimBuster dataset, do k-fold cross validation, and perform post training evaluation on the CLEF-2019 test dataset.\n",
        "3.   `train_clef_no_test`: Train the model on the CLEF-2019 dataset and only do k-fold cross validation. No post training evaluation on a separate test set is performed.\n",
        "4.   `train_clef_test_clef`: Train the model on the CLEF-2019 dataset, do k-fold cross validation, and perform post training evaluation on the CLEF-2019 test dataset.\n"
      ]
    },
    {
      "cell_type": "code",
      "source": [
        "data = pd.read_csv(\"./clef_test.tsv\")\n",
        "data.head()"
      ],
      "metadata": {
        "colab": {
          "base_uri": "https://localhost:8080/",
          "height": 206
        },
        "id": "ZUVOpLSlabOo",
        "outputId": "28144ee8-17f4-40bf-820b-959e978247c8"
      },
      "execution_count": 10,
      "outputs": [
        {
          "output_type": "execute_result",
          "data": {
            "text/plain": [
              "   line_number  speaker                                               text  \\\n",
              "0            1  RADDATZ                           Good evening to you all.   \n",
              "1            2  RADDATZ  The rules for tonight are very basic and have ...   \n",
              "2            3  RADDATZ  Candidates can take up to a minute-and-a-half ...   \n",
              "3            4  RADDATZ  For a rebuttal, for a follow-up, 45 seconds wi...   \n",
              "4            5  RADDATZ  There are green, yellow, and red lights that e...   \n",
              "\n",
              "   label           file_name  \n",
              "0      0  20151219_3_dem.tsv  \n",
              "1      0  20151219_3_dem.tsv  \n",
              "2      0  20151219_3_dem.tsv  \n",
              "3      0  20151219_3_dem.tsv  \n",
              "4      0  20151219_3_dem.tsv  "
            ],
            "text/html": [
              "\n",
              "  <div id=\"df-f87a827e-f5a2-4715-b770-c79f9d83c3f4\">\n",
              "    <div class=\"colab-df-container\">\n",
              "      <div>\n",
              "<style scoped>\n",
              "    .dataframe tbody tr th:only-of-type {\n",
              "        vertical-align: middle;\n",
              "    }\n",
              "\n",
              "    .dataframe tbody tr th {\n",
              "        vertical-align: top;\n",
              "    }\n",
              "\n",
              "    .dataframe thead th {\n",
              "        text-align: right;\n",
              "    }\n",
              "</style>\n",
              "<table border=\"1\" class=\"dataframe\">\n",
              "  <thead>\n",
              "    <tr style=\"text-align: right;\">\n",
              "      <th></th>\n",
              "      <th>line_number</th>\n",
              "      <th>speaker</th>\n",
              "      <th>text</th>\n",
              "      <th>label</th>\n",
              "      <th>file_name</th>\n",
              "    </tr>\n",
              "  </thead>\n",
              "  <tbody>\n",
              "    <tr>\n",
              "      <th>0</th>\n",
              "      <td>1</td>\n",
              "      <td>RADDATZ</td>\n",
              "      <td>Good evening to you all.</td>\n",
              "      <td>0</td>\n",
              "      <td>20151219_3_dem.tsv</td>\n",
              "    </tr>\n",
              "    <tr>\n",
              "      <th>1</th>\n",
              "      <td>2</td>\n",
              "      <td>RADDATZ</td>\n",
              "      <td>The rules for tonight are very basic and have ...</td>\n",
              "      <td>0</td>\n",
              "      <td>20151219_3_dem.tsv</td>\n",
              "    </tr>\n",
              "    <tr>\n",
              "      <th>2</th>\n",
              "      <td>3</td>\n",
              "      <td>RADDATZ</td>\n",
              "      <td>Candidates can take up to a minute-and-a-half ...</td>\n",
              "      <td>0</td>\n",
              "      <td>20151219_3_dem.tsv</td>\n",
              "    </tr>\n",
              "    <tr>\n",
              "      <th>3</th>\n",
              "      <td>4</td>\n",
              "      <td>RADDATZ</td>\n",
              "      <td>For a rebuttal, for a follow-up, 45 seconds wi...</td>\n",
              "      <td>0</td>\n",
              "      <td>20151219_3_dem.tsv</td>\n",
              "    </tr>\n",
              "    <tr>\n",
              "      <th>4</th>\n",
              "      <td>5</td>\n",
              "      <td>RADDATZ</td>\n",
              "      <td>There are green, yellow, and red lights that e...</td>\n",
              "      <td>0</td>\n",
              "      <td>20151219_3_dem.tsv</td>\n",
              "    </tr>\n",
              "  </tbody>\n",
              "</table>\n",
              "</div>\n",
              "      <button class=\"colab-df-convert\" onclick=\"convertToInteractive('df-f87a827e-f5a2-4715-b770-c79f9d83c3f4')\"\n",
              "              title=\"Convert this dataframe to an interactive table.\"\n",
              "              style=\"display:none;\">\n",
              "        \n",
              "  <svg xmlns=\"http://www.w3.org/2000/svg\" height=\"24px\"viewBox=\"0 0 24 24\"\n",
              "       width=\"24px\">\n",
              "    <path d=\"M0 0h24v24H0V0z\" fill=\"none\"/>\n",
              "    <path d=\"M18.56 5.44l.94 2.06.94-2.06 2.06-.94-2.06-.94-.94-2.06-.94 2.06-2.06.94zm-11 1L8.5 8.5l.94-2.06 2.06-.94-2.06-.94L8.5 2.5l-.94 2.06-2.06.94zm10 10l.94 2.06.94-2.06 2.06-.94-2.06-.94-.94-2.06-.94 2.06-2.06.94z\"/><path d=\"M17.41 7.96l-1.37-1.37c-.4-.4-.92-.59-1.43-.59-.52 0-1.04.2-1.43.59L10.3 9.45l-7.72 7.72c-.78.78-.78 2.05 0 2.83L4 21.41c.39.39.9.59 1.41.59.51 0 1.02-.2 1.41-.59l7.78-7.78 2.81-2.81c.8-.78.8-2.07 0-2.86zM5.41 20L4 18.59l7.72-7.72 1.47 1.35L5.41 20z\"/>\n",
              "  </svg>\n",
              "      </button>\n",
              "      \n",
              "  <style>\n",
              "    .colab-df-container {\n",
              "      display:flex;\n",
              "      flex-wrap:wrap;\n",
              "      gap: 12px;\n",
              "    }\n",
              "\n",
              "    .colab-df-convert {\n",
              "      background-color: #E8F0FE;\n",
              "      border: none;\n",
              "      border-radius: 50%;\n",
              "      cursor: pointer;\n",
              "      display: none;\n",
              "      fill: #1967D2;\n",
              "      height: 32px;\n",
              "      padding: 0 0 0 0;\n",
              "      width: 32px;\n",
              "    }\n",
              "\n",
              "    .colab-df-convert:hover {\n",
              "      background-color: #E2EBFA;\n",
              "      box-shadow: 0px 1px 2px rgba(60, 64, 67, 0.3), 0px 1px 3px 1px rgba(60, 64, 67, 0.15);\n",
              "      fill: #174EA6;\n",
              "    }\n",
              "\n",
              "    [theme=dark] .colab-df-convert {\n",
              "      background-color: #3B4455;\n",
              "      fill: #D2E3FC;\n",
              "    }\n",
              "\n",
              "    [theme=dark] .colab-df-convert:hover {\n",
              "      background-color: #434B5C;\n",
              "      box-shadow: 0px 1px 3px 1px rgba(0, 0, 0, 0.15);\n",
              "      filter: drop-shadow(0px 1px 2px rgba(0, 0, 0, 0.3));\n",
              "      fill: #FFFFFF;\n",
              "    }\n",
              "  </style>\n",
              "\n",
              "      <script>\n",
              "        const buttonEl =\n",
              "          document.querySelector('#df-f87a827e-f5a2-4715-b770-c79f9d83c3f4 button.colab-df-convert');\n",
              "        buttonEl.style.display =\n",
              "          google.colab.kernel.accessAllowed ? 'block' : 'none';\n",
              "\n",
              "        async function convertToInteractive(key) {\n",
              "          const element = document.querySelector('#df-f87a827e-f5a2-4715-b770-c79f9d83c3f4');\n",
              "          const dataTable =\n",
              "            await google.colab.kernel.invokeFunction('convertToInteractive',\n",
              "                                                     [key], {});\n",
              "          if (!dataTable) return;\n",
              "\n",
              "          const docLinkHtml = 'Like what you see? Visit the ' +\n",
              "            '<a target=\"_blank\" href=https://colab.research.google.com/notebooks/data_table.ipynb>data table notebook</a>'\n",
              "            + ' to learn more about interactive tables.';\n",
              "          element.innerHTML = '';\n",
              "          dataTable['output_type'] = 'display_data';\n",
              "          await google.colab.output.renderOutput(dataTable, element);\n",
              "          const docLink = document.createElement('div');\n",
              "          docLink.innerHTML = docLinkHtml;\n",
              "          element.appendChild(docLink);\n",
              "        }\n",
              "      </script>\n",
              "    </div>\n",
              "  </div>\n",
              "  "
            ]
          },
          "metadata": {},
          "execution_count": 10
        }
      ]
    },
    {
      "cell_type": "code",
      "source": [
        "data2 = pd.read_json(\"./claimbuster_dataset.json\")\n",
        "data2.head()"
      ],
      "metadata": {
        "colab": {
          "base_uri": "https://localhost:8080/",
          "height": 206
        },
        "id": "w0gMIKnQSDRj",
        "outputId": "a329ef74-0d13-4748-f648-ed0c7918cd30"
      },
      "execution_count": 11,
      "outputs": [
        {
          "output_type": "execute_result",
          "data": {
            "text/plain": [
              "   sentence_id  label                                               text\n",
              "0        27247      1                We're 9 million jobs short of that.\n",
              "1        10766      1  You know, last year up to this time, we've los...\n",
              "2         3327      1  And in November of 1975 I was the first presid...\n",
              "3        19700      1  And what we've done during the Bush administra...\n",
              "4        12600      1  Do you know we don't have a single program spo..."
            ],
            "text/html": [
              "\n",
              "  <div id=\"df-3b2c408a-9196-43fd-8e60-7ee300378ba0\">\n",
              "    <div class=\"colab-df-container\">\n",
              "      <div>\n",
              "<style scoped>\n",
              "    .dataframe tbody tr th:only-of-type {\n",
              "        vertical-align: middle;\n",
              "    }\n",
              "\n",
              "    .dataframe tbody tr th {\n",
              "        vertical-align: top;\n",
              "    }\n",
              "\n",
              "    .dataframe thead th {\n",
              "        text-align: right;\n",
              "    }\n",
              "</style>\n",
              "<table border=\"1\" class=\"dataframe\">\n",
              "  <thead>\n",
              "    <tr style=\"text-align: right;\">\n",
              "      <th></th>\n",
              "      <th>sentence_id</th>\n",
              "      <th>label</th>\n",
              "      <th>text</th>\n",
              "    </tr>\n",
              "  </thead>\n",
              "  <tbody>\n",
              "    <tr>\n",
              "      <th>0</th>\n",
              "      <td>27247</td>\n",
              "      <td>1</td>\n",
              "      <td>We're 9 million jobs short of that.</td>\n",
              "    </tr>\n",
              "    <tr>\n",
              "      <th>1</th>\n",
              "      <td>10766</td>\n",
              "      <td>1</td>\n",
              "      <td>You know, last year up to this time, we've los...</td>\n",
              "    </tr>\n",
              "    <tr>\n",
              "      <th>2</th>\n",
              "      <td>3327</td>\n",
              "      <td>1</td>\n",
              "      <td>And in November of 1975 I was the first presid...</td>\n",
              "    </tr>\n",
              "    <tr>\n",
              "      <th>3</th>\n",
              "      <td>19700</td>\n",
              "      <td>1</td>\n",
              "      <td>And what we've done during the Bush administra...</td>\n",
              "    </tr>\n",
              "    <tr>\n",
              "      <th>4</th>\n",
              "      <td>12600</td>\n",
              "      <td>1</td>\n",
              "      <td>Do you know we don't have a single program spo...</td>\n",
              "    </tr>\n",
              "  </tbody>\n",
              "</table>\n",
              "</div>\n",
              "      <button class=\"colab-df-convert\" onclick=\"convertToInteractive('df-3b2c408a-9196-43fd-8e60-7ee300378ba0')\"\n",
              "              title=\"Convert this dataframe to an interactive table.\"\n",
              "              style=\"display:none;\">\n",
              "        \n",
              "  <svg xmlns=\"http://www.w3.org/2000/svg\" height=\"24px\"viewBox=\"0 0 24 24\"\n",
              "       width=\"24px\">\n",
              "    <path d=\"M0 0h24v24H0V0z\" fill=\"none\"/>\n",
              "    <path d=\"M18.56 5.44l.94 2.06.94-2.06 2.06-.94-2.06-.94-.94-2.06-.94 2.06-2.06.94zm-11 1L8.5 8.5l.94-2.06 2.06-.94-2.06-.94L8.5 2.5l-.94 2.06-2.06.94zm10 10l.94 2.06.94-2.06 2.06-.94-2.06-.94-.94-2.06-.94 2.06-2.06.94z\"/><path d=\"M17.41 7.96l-1.37-1.37c-.4-.4-.92-.59-1.43-.59-.52 0-1.04.2-1.43.59L10.3 9.45l-7.72 7.72c-.78.78-.78 2.05 0 2.83L4 21.41c.39.39.9.59 1.41.59.51 0 1.02-.2 1.41-.59l7.78-7.78 2.81-2.81c.8-.78.8-2.07 0-2.86zM5.41 20L4 18.59l7.72-7.72 1.47 1.35L5.41 20z\"/>\n",
              "  </svg>\n",
              "      </button>\n",
              "      \n",
              "  <style>\n",
              "    .colab-df-container {\n",
              "      display:flex;\n",
              "      flex-wrap:wrap;\n",
              "      gap: 12px;\n",
              "    }\n",
              "\n",
              "    .colab-df-convert {\n",
              "      background-color: #E8F0FE;\n",
              "      border: none;\n",
              "      border-radius: 50%;\n",
              "      cursor: pointer;\n",
              "      display: none;\n",
              "      fill: #1967D2;\n",
              "      height: 32px;\n",
              "      padding: 0 0 0 0;\n",
              "      width: 32px;\n",
              "    }\n",
              "\n",
              "    .colab-df-convert:hover {\n",
              "      background-color: #E2EBFA;\n",
              "      box-shadow: 0px 1px 2px rgba(60, 64, 67, 0.3), 0px 1px 3px 1px rgba(60, 64, 67, 0.15);\n",
              "      fill: #174EA6;\n",
              "    }\n",
              "\n",
              "    [theme=dark] .colab-df-convert {\n",
              "      background-color: #3B4455;\n",
              "      fill: #D2E3FC;\n",
              "    }\n",
              "\n",
              "    [theme=dark] .colab-df-convert:hover {\n",
              "      background-color: #434B5C;\n",
              "      box-shadow: 0px 1px 3px 1px rgba(0, 0, 0, 0.15);\n",
              "      filter: drop-shadow(0px 1px 2px rgba(0, 0, 0, 0.3));\n",
              "      fill: #FFFFFF;\n",
              "    }\n",
              "  </style>\n",
              "\n",
              "      <script>\n",
              "        const buttonEl =\n",
              "          document.querySelector('#df-3b2c408a-9196-43fd-8e60-7ee300378ba0 button.colab-df-convert');\n",
              "        buttonEl.style.display =\n",
              "          google.colab.kernel.accessAllowed ? 'block' : 'none';\n",
              "\n",
              "        async function convertToInteractive(key) {\n",
              "          const element = document.querySelector('#df-3b2c408a-9196-43fd-8e60-7ee300378ba0');\n",
              "          const dataTable =\n",
              "            await google.colab.kernel.invokeFunction('convertToInteractive',\n",
              "                                                     [key], {});\n",
              "          if (!dataTable) return;\n",
              "\n",
              "          const docLinkHtml = 'Like what you see? Visit the ' +\n",
              "            '<a target=\"_blank\" href=https://colab.research.google.com/notebooks/data_table.ipynb>data table notebook</a>'\n",
              "            + ' to learn more about interactive tables.';\n",
              "          element.innerHTML = '';\n",
              "          dataTable['output_type'] = 'display_data';\n",
              "          await google.colab.output.renderOutput(dataTable, element);\n",
              "          const docLink = document.createElement('div');\n",
              "          docLink.innerHTML = docLinkHtml;\n",
              "          element.appendChild(docLink);\n",
              "        }\n",
              "      </script>\n",
              "    </div>\n",
              "  </div>\n",
              "  "
            ]
          },
          "metadata": {},
          "execution_count": 11
        }
      ]
    },
    {
      "cell_type": "code",
      "execution_count": 12,
      "metadata": {
        "id": "zd2wtvJ0Ws3s"
      },
      "outputs": [],
      "source": [
        "training_options = {\n",
        "    \"train_claimbuster_no_test\": (100000000, 1000, \"claimbuster_dataset\", \"json\", \"\", \"\\t\", \"utf-8\", \"utf-8\", True, False, 1, 4, True),\n",
        "    \"train_claimbuster_test_clef\": (100000000, 1000, \"claimbuster_dataset\", \"json\", \"./clef_test.tsv\", \"\\t\", \"utf-8\", \"utf-8\", True, True, 1, 4, True),\n",
        "    \"train_clef_no_test\": (100000000, 1000, \"clef_dataset\", \"tsv\", \"\", \"\\t\", \"utf-8\", \"utf-8\", True, False, 1, 4, True),\n",
        "    \"train_clef_test_clef\": (100000000, 1000, \"clef_dataset\", \"tsv\", \"./clef_test.tsv\", \"\\t\", \"utf-8\", \"utf-8\", True, True, 1, 4, True)\n",
        "}\n",
        "\n",
        "(max_num_iters, max_num_iters_kfold, train_file_name, train_file_ext, \n",
        "test_file_path, csv_delimiter, train_file_encoding, test_file_encoding, \n",
        "test_file_has_header, test_file_in_multiple_doc_order, n_gram, num_folds, \n",
        "train_new_model) = training_options[\"train_claimbuster_test_clef\"]"
      ]
    },
    {
      "cell_type": "markdown",
      "metadata": {
        "id": "IJbjn2fZ-ApW"
      },
      "source": [
        "# Train Model and Perform K-Fold Cross Validation"
      ]
    },
    {
      "cell_type": "markdown",
      "metadata": {
        "id": "Sgjak6VZWxUE"
      },
      "source": [
        "Train the model using the training option defined above."
      ]
    },
    {
      "cell_type": "code",
      "execution_count": 13,
      "metadata": {
        "colab": {
          "base_uri": "https://localhost:8080/",
          "height": 1000
        },
        "id": "5TkKbNaPW4ES",
        "outputId": "693f1c92-6190-4542-879d-30408fb3df0a"
      },
      "outputs": [
        {
          "output_type": "stream",
          "name": "stdout",
          "text": [
            "[claimbuster_dataset] Training SVM_W_P complete.\n",
            "\n",
            "K-folds total samples:  9674\n",
            "Fold: 1, Training Samples: 7255, Testing Samples: 2419\n"
          ]
        },
        {
          "output_type": "stream",
          "name": "stderr",
          "text": [
            "/usr/local/lib/python3.7/dist-packages/sklearn/utils/deprecation.py:87: FutureWarning: Function plot_roc_curve is deprecated; Function :func:`plot_roc_curve` is deprecated in 1.0 and will be removed in 1.2. Use one of the class methods: :meth:`sklearn.metric.RocCurveDisplay.from_predictions` or :meth:`sklearn.metric.RocCurveDisplay.from_estimator`.\n",
            "  warnings.warn(msg, category=FutureWarning)\n"
          ]
        },
        {
          "output_type": "stream",
          "name": "stdout",
          "text": [
            "########## Classification Report ##########\n",
            "              precision    recall  f1-score   support\n",
            "\n",
            "           0     0.8976    0.9184    0.9079      1728\n",
            "           1     0.7834    0.7381    0.7601       691\n",
            "\n",
            "    accuracy                         0.8669      2419\n",
            "   macro avg     0.8405    0.8282    0.8340      2419\n",
            "weighted avg     0.8650    0.8669    0.8657      2419\n",
            "\n",
            "############ Confusion Matrix #############\n",
            "[[1587  141]\n",
            " [ 181  510]] \n",
            "\n",
            "nDCG Score:  0.9769888217540251\n",
            "Average Precision:  0.8513978736626592\n",
            "Balanced Accuracy:  0.8282317796269496 \n",
            "\n",
            "# --------------------------------------------------------- #\n",
            "\n",
            "Fold: 2, Training Samples: 7255, Testing Samples: 2419\n"
          ]
        },
        {
          "output_type": "stream",
          "name": "stderr",
          "text": [
            "/usr/local/lib/python3.7/dist-packages/sklearn/utils/deprecation.py:87: FutureWarning: Function plot_roc_curve is deprecated; Function :func:`plot_roc_curve` is deprecated in 1.0 and will be removed in 1.2. Use one of the class methods: :meth:`sklearn.metric.RocCurveDisplay.from_predictions` or :meth:`sklearn.metric.RocCurveDisplay.from_estimator`.\n",
            "  warnings.warn(msg, category=FutureWarning)\n"
          ]
        },
        {
          "output_type": "stream",
          "name": "stdout",
          "text": [
            "########## Classification Report ##########\n",
            "              precision    recall  f1-score   support\n",
            "\n",
            "           0     0.9383    0.8189    0.8745      1728\n",
            "           1     0.6564    0.8654    0.7466       691\n",
            "\n",
            "    accuracy                         0.8322      2419\n",
            "   macro avg     0.7974    0.8421    0.8106      2419\n",
            "weighted avg     0.8578    0.8322    0.8380      2419\n",
            "\n",
            "############ Confusion Matrix #############\n",
            "[[1415  313]\n",
            " [  93  598]] \n",
            "\n",
            "nDCG Score:  0.9693242634689907\n",
            "Average Precision:  0.8159104983256584\n",
            "Balanced Accuracy:  0.8421390932357828 \n",
            "\n",
            "# --------------------------------------------------------- #\n",
            "\n",
            "Fold: 3, Training Samples: 7256, Testing Samples: 2418\n"
          ]
        },
        {
          "output_type": "stream",
          "name": "stderr",
          "text": [
            "/usr/local/lib/python3.7/dist-packages/sklearn/utils/deprecation.py:87: FutureWarning: Function plot_roc_curve is deprecated; Function :func:`plot_roc_curve` is deprecated in 1.0 and will be removed in 1.2. Use one of the class methods: :meth:`sklearn.metric.RocCurveDisplay.from_predictions` or :meth:`sklearn.metric.RocCurveDisplay.from_estimator`.\n",
            "  warnings.warn(msg, category=FutureWarning)\n"
          ]
        },
        {
          "output_type": "stream",
          "name": "stdout",
          "text": [
            "########## Classification Report ##########\n",
            "              precision    recall  f1-score   support\n",
            "\n",
            "           0     0.9023    0.9363    0.9190      1727\n",
            "           1     0.8243    0.7467    0.7836       691\n",
            "\n",
            "    accuracy                         0.8821      2418\n",
            "   macro avg     0.8633    0.8415    0.8513      2418\n",
            "weighted avg     0.8800    0.8821    0.8803      2418\n",
            "\n",
            "############ Confusion Matrix #############\n",
            "[[1617  110]\n",
            " [ 175  516]] \n",
            "\n",
            "nDCG Score:  0.9799816745746094\n",
            "Average Precision:  0.8696779611205111\n",
            "Balanced Accuracy:  0.8415247909887821 \n",
            "\n",
            "# --------------------------------------------------------- #\n",
            "\n",
            "Fold: 4, Training Samples: 7256, Testing Samples: 2418\n"
          ]
        },
        {
          "output_type": "stream",
          "name": "stderr",
          "text": [
            "/usr/local/lib/python3.7/dist-packages/sklearn/utils/deprecation.py:87: FutureWarning: Function plot_roc_curve is deprecated; Function :func:`plot_roc_curve` is deprecated in 1.0 and will be removed in 1.2. Use one of the class methods: :meth:`sklearn.metric.RocCurveDisplay.from_predictions` or :meth:`sklearn.metric.RocCurveDisplay.from_estimator`.\n",
            "  warnings.warn(msg, category=FutureWarning)\n"
          ]
        },
        {
          "output_type": "stream",
          "name": "stdout",
          "text": [
            "########## Classification Report ##########\n",
            "              precision    recall  f1-score   support\n",
            "\n",
            "           0     0.8835    0.9311    0.9067      1727\n",
            "           1     0.8010    0.6932    0.7432       691\n",
            "\n",
            "    accuracy                         0.8631      2418\n",
            "   macro avg     0.8423    0.8121    0.8249      2418\n",
            "weighted avg     0.8599    0.8631    0.8600      2418\n",
            "\n",
            "############ Confusion Matrix #############\n",
            "[[1608  119]\n",
            " [ 212  479]] \n",
            "\n",
            "nDCG Score:  0.975633518924286\n",
            "Average Precision:  0.844600137702581\n",
            "Balanced Accuracy:  0.8121463233550397 \n",
            "\n",
            "# --------------------------------------------------------- #\n",
            "\n",
            "# Aggregated K-Fold Classification Report #\n",
            "              precision    recall  f1-score   support\n",
            "\n",
            "           0     0.9040    0.9012    0.9026      6910\n",
            "           1     0.7548    0.7609    0.7578      2764\n",
            "\n",
            "    accuracy                         0.8611      9674\n",
            "   macro avg     0.8294    0.8310    0.8302      9674\n",
            "weighted avg     0.8614    0.8611    0.8612      9674\n",
            "\n",
            "### Aggregated K-Fold Confusion Matrix ####\n",
            "[[6227.  683.]\n",
            " [ 661. 2103.]] \n",
            "\n",
            "Average nDCG:  0.9754820696804778\n",
            "Mean Average Precision:  0.8453966177028525\n",
            "Average Balanced Accuracy:  0.8310104968016385 \n",
            "\n",
            "# --------------------------------------------------------- #\n",
            "\n"
          ]
        },
        {
          "output_type": "display_data",
          "data": {
            "text/plain": [
              "<Figure size 432x288 with 1 Axes>"
            ],
            "image/png": "[encoded data removed]"
          },
          "metadata": {
            "needs_background": "light"
          }
        }
      ],
      "source": [
        "# Reset models dir\n",
        "rmtree(\"./models\", ignore_errors=True)\n",
        "os.makedirs(\"models\", exist_ok=False)\n",
        "\n",
        "if train_new_model:\n",
        "    # Load the data and shuffle it\n",
        "    if train_file_ext in [\"csv\", \"tsv\"]:\n",
        "        data = pd.read_csv(f\"./{train_file_name}.{train_file_ext}\", encoding=train_file_encoding, delimiter=\",\", quotechar='\"')\n",
        "    elif train_file_ext in [\"json\"]:\n",
        "        data = pd.read_json(f\"./{train_file_name}.{train_file_ext}\", encoding=train_file_encoding)\n",
        "    data = data.sample(frac=1).reset_index(drop=True)\n",
        "\n",
        "    # Create a global tf_idf vectorizer with entire vocabulary\n",
        "    final_tf_idf_vect = TfidfVectorizer(min_df=1, ngram_range=(n_gram, n_gram))\n",
        "    final_tf_idf_vect.fit(data.text)\n",
        "    pickle.dump(final_tf_idf_vect.idf_, open(\"models/idf_\" + train_file_name, \"wb\"))\n",
        "\n",
        "    # Add in sentence length info to dataframe\n",
        "    sen_len = pd.DataFrame()\n",
        "    sen_len['length'] = [len(data.loc[id].text.split()) for id in data.index]\n",
        "    data = pd.concat([data, sen_len], axis=1)\n",
        "\n",
        "    # Vectorize final data for training the final model and storing for loading the model post training\n",
        "    final_data = pd.concat([data, get_ngram(train_file_name, final_tf_idf_vect, data, n_gram, True)], axis=1)\n",
        "\n",
        "    # Get PoS feature set for final data\n",
        "    final_data = pd.concat([final_data, get_pos(final_data, 1)], axis=1)\n",
        "\n",
        "    # Store final data in pickle files\n",
        "    j = joblib.dump(final_data, './models/DF_' + train_file_name + '.pkl')\n",
        "    final_data = joblib.load('./models/DF_' + train_file_name + '.pkl')\n",
        "\n",
        "    # Train the classifiers\n",
        "    classifiers = {\n",
        "        \"final_model\": [(LinearSVC(max_iter=max_num_iters), \"SVM\")],\n",
        "        \"k_fold_models\": [(LinearSVC(max_iter=max_num_iters_kfold), \"SVM\")]\n",
        "        }\n",
        "    features = [('length|W_|P_', 'W_P')]\n",
        "    models = train_models(train_file_name, final_data, classifiers[\"final_model\"], features, 'label')\n",
        "\n",
        "    # Evaluate the classifiers\n",
        "    evaluate(train_file_name, data, classifiers[\"k_fold_models\"], features, 'label', num_folds, num_classes=2)"
      ]
    },
    {
      "cell_type": "markdown",
      "metadata": {
        "id": "78EBeuFJ-I0w"
      },
      "source": [
        "# Post Training Evaluation"
      ]
    },
    {
      "cell_type": "markdown",
      "metadata": {
        "id": "f9wt8FAiW8lX"
      },
      "source": [
        "If post-training evaluation was specified, then perform the appropriate evaluations."
      ]
    },
    {
      "cell_type": "code",
      "execution_count": 14,
      "metadata": {
        "colab": {
          "base_uri": "https://localhost:8080/",
          "height": 636
        },
        "id": "sOlVgkrA3uto",
        "outputId": "de6a5d51-ecaf-451f-a6ee-d5b2f0ca1f57"
      },
      "outputs": [
        {
          "output_type": "stream",
          "name": "stderr",
          "text": [
            "No handles with labels found to put in legend.\n"
          ]
        },
        {
          "output_type": "stream",
          "name": "stdout",
          "text": [
            "###### Test Set Classification Report #####\n",
            "               precision    recall  f1-score   support\n",
            "\n",
            "           0     0.9847    0.9444    0.9641      6944\n",
            "           1     0.0810    0.2500    0.1223       136\n",
            "\n",
            "    accuracy                         0.9311      7080\n",
            "   macro avg     0.5328    0.5972    0.5432      7080\n",
            "weighted avg     0.9673    0.9311    0.9480      7080\n",
            "\n",
            "######## Test Set Confusion Matrix ########\n",
            " [[6558  386]\n",
            " [ 102   34]] \n",
            "\n",
            "nDCG Score:  0.4666399850321547\n",
            "(Mean) Average Precision:  0.10393114454551769\n",
            "Balanced Accuracy:  0.6030411018389067 \n",
            "\n",
            "Average Precision @ k:  [10, 20, 50] [0.14285714285714288, 0.1285714285714286, 0.10571428571428572]\n"
          ]
        },
        {
          "output_type": "display_data",
          "data": {
            "text/plain": [
              "<Figure size 432x288 with 1 Axes>"
            ],
            "image/png": "[encoded data removed]"
          },
          "metadata": {
            "needs_background": "light"
          }
        }
      ],
      "source": [
        "###############################################################\n",
        "# Post training and k-fold evaluation on test set starts here #\n",
        "###############################################################\n",
        "all_ground_truth_labels = []\n",
        "all_predicted_labels = []\n",
        "cfs_scores = []\n",
        "\n",
        "multi_test_doc_ground_truth_labels = []\n",
        "multi_test_doc_predicted_labels = []\n",
        "multi_test_doc_cfs_scores = []\n",
        "\n",
        "p_at_k_thresholds = [10, 20, 50]\n",
        "\n",
        "if test_file_path:\n",
        "    prev_sent_id = -1\n",
        "\n",
        "    if \".tsv\" in test_file_path or \".csv\" in test_file_path:\n",
        "        with open(test_file_path, encoding=test_file_encoding) as test_data_sv:\n",
        "            test_data = csv.reader(test_data_sv, delimiter=csv_delimiter, quotechar='\"')\n",
        "\n",
        "            if test_file_has_header:\n",
        "                next(test_data)\n",
        "\n",
        "            for d in test_data:\n",
        "                if int(d[0].split(',')[0]) < prev_sent_id and test_file_in_multiple_doc_order:\n",
        "                    multi_test_doc_ground_truth_labels.append(deepcopy(all_ground_truth_labels))\n",
        "                    multi_test_doc_predicted_labels.append(deepcopy(all_predicted_labels))\n",
        "                    multi_test_doc_cfs_scores.append(deepcopy(cfs_scores))\n",
        "\n",
        "                    all_ground_truth_labels = []\n",
        "                    all_predicted_labels = []\n",
        "                    cfs_scores = []\n",
        "                    prev_sent_id = int(d[0].split(',')[0])\n",
        "                else:\n",
        "                    prev_sent_id = int(d[0].split(',')[0])\n",
        "                \n",
        "                # Get label probabilities from trained model\n",
        "                cfs_score = getCFSScore(train_file_name, d[0].split(',')[2])\n",
        "                sentence_label = int(d[0].split(',')[-2])\n",
        "\n",
        "                # Aggregate ground truth and predicted labels for each sentence\n",
        "                all_ground_truth_labels.append(sentence_label)\n",
        "                all_predicted_labels.append(argmax(cfs_score))\n",
        "\n",
        "                # Aggregate CFS scores given by model\n",
        "                cfs_scores.append(cfs_score[1])\n",
        "            \n",
        "            if len(multi_test_doc_ground_truth_labels) and len(all_ground_truth_labels):\n",
        "                multi_test_doc_ground_truth_labels.append(deepcopy(all_ground_truth_labels))\n",
        "                multi_test_doc_predicted_labels.append(deepcopy(all_predicted_labels))\n",
        "                multi_test_doc_cfs_scores.append(deepcopy(cfs_scores))\n",
        "    else:\n",
        "        with open(test_file_path, encoding=test_file_encoding) as test_data_json:\n",
        "            test_data = json.load(test_data_json)\n",
        "\n",
        "            for d in test_data:\n",
        "                # Get label probabilities from trained model\n",
        "                cfs_score = getCFSScore(train_file_name, d[\"text\"])\n",
        "                sentence_label = int(d[\"label\"])\n",
        "\n",
        "                # Aggregate ground truth and predicted labels for each sentence\n",
        "                all_ground_truth_labels.append(sentence_label)\n",
        "                all_predicted_labels.append(argmax(cfs_score))\n",
        "\n",
        "                # Aggregate CFS scores given by model\n",
        "                cfs_scores.append(cfs_score[1])\n",
        "\n",
        "    if len(multi_test_doc_ground_truth_labels) == 0:\n",
        "        classification_report = mt.classification_report(all_ground_truth_labels, all_predicted_labels, digits=4)\n",
        "        confusion_matrix = mt.confusion_matrix(all_ground_truth_labels, all_predicted_labels)\n",
        "        balanced_accuracy = mt.balanced_accuracy_score(all_ground_truth_labels, all_predicted_labels)\n",
        "        average_precision = compute_average_precision(all_ground_truth_labels, cfs_scores)\n",
        "        ndcg = compute_ndcg(all_ground_truth_labels, cfs_scores)\n",
        "        try:\n",
        "            final_p_at_k = [x[th - 1] for x, th in zip(compute_precisions(all_ground_truth_labels, cfs_scores), p_at_k_thresholds)]\n",
        "        except IndexError:\n",
        "            final_p_at_k = \"Not enough test samples to calculate precisions at defined thresholds.\"\n",
        "    else:\n",
        "        merged_gt_labels = list(chain.from_iterable(multi_test_doc_ground_truth_labels))\n",
        "        merged_pred_labels = list(chain.from_iterable(multi_test_doc_predicted_labels))\n",
        "        classification_report = mt.classification_report(merged_gt_labels, merged_pred_labels, digits=4)\n",
        "        confusion_matrix = mt.confusion_matrix(merged_gt_labels, merged_pred_labels)\n",
        "\n",
        "        balanced_accuracy = sum([mt.balanced_accuracy_score(x, y) for x, y in zip(multi_test_doc_ground_truth_labels, multi_test_doc_predicted_labels)]) / len(multi_test_doc_ground_truth_labels)\n",
        "        average_precision = sum([compute_average_precision(x, y) for x, y in zip(multi_test_doc_ground_truth_labels, multi_test_doc_cfs_scores)]) / len(multi_test_doc_ground_truth_labels)\n",
        "        ndcg = sum([compute_ndcg(x, y) for x, y in zip(multi_test_doc_ground_truth_labels, multi_test_doc_cfs_scores)]) / len(multi_test_doc_ground_truth_labels)\n",
        "\n",
        "        final_p_at_k = [0.0] * len(p_at_k_thresholds)\n",
        "        precisions_at_k_pruned = []\n",
        "        precisions_at_k = [compute_precisions(x, y) for x, y in zip(multi_test_doc_ground_truth_labels, multi_test_doc_cfs_scores)]\n",
        "        try:\n",
        "            for p in precisions_at_k:\n",
        "                p_th = []\n",
        "\n",
        "                for th in p_at_k_thresholds:\n",
        "                    p_th.append(p[th - 1])\n",
        "                \n",
        "                precisions_at_k_pruned.append(p_th)\n",
        "\n",
        "            for i in range(0, len(p_at_k_thresholds)):\n",
        "                for p in precisions_at_k_pruned:\n",
        "                    final_p_at_k[i] += p[i]\n",
        "\n",
        "            final_p_at_k = [x / len(multi_test_doc_ground_truth_labels) for x in final_p_at_k]\n",
        "        except IndexError:\n",
        "            final_p_at_k = \"Not enough test samples to calculate precisions at defined thresholds.\"\n",
        "\n",
        "\n",
        "    print(\"###### Test Set Classification Report #####\\n\", classification_report)\n",
        "    print(\"######## Test Set Confusion Matrix ########\\n\", confusion_matrix, \"\\n\")\n",
        "    print(\"nDCG Score: \", ndcg)\n",
        "    print(\"(Mean) Average Precision: \", average_precision)\n",
        "    print(\"Balanced Accuracy: \", balanced_accuracy, \"\\n\")\n",
        "    print(\"Average Precision @ k: \", p_at_k_thresholds, final_p_at_k)\n",
        "    compute_kde(cfs_scores)\n"
      ]
    },
    {
      "cell_type": "code",
      "execution_count": null,
      "metadata": {
        "id": "Nthpt2gZLUCg",
        "colab": {
          "base_uri": "https://localhost:8080/"
        },
        "outputId": "ab31973c-f2c3-42e4-aa62-1784609c1675"
      },
      "outputs": [
        {
          "output_type": "execute_result",
          "data": {
            "text/plain": [
              "array([0.81725732, 0.18274268])"
            ]
          },
          "metadata": {},
          "execution_count": 10
        }
      ],
      "source": [
        "cfs_score\n"
      ]
    },
    {
      "cell_type": "code",
      "source": [
        "print(argmax([0.1,0.9]))"
      ],
      "metadata": {
        "colab": {
          "base_uri": "https://localhost:8080/"
        },
        "id": "S34CFji2qZCU",
        "outputId": "949d7241-d471-411a-e72e-3c66b492da6d"
      },
      "execution_count": null,
      "outputs": [
        {
          "output_type": "stream",
          "name": "stdout",
          "text": [
            "1\n"
          ]
        }
      ]
    },
    {
      "cell_type": "code",
      "source": [
        ""
      ],
      "metadata": {
        "id": "eM_vFOwruqNZ"
      },
      "execution_count": null,
      "outputs": []
    }
  ],
  "metadata": {
    "accelerator": "TPU",
    "colab": {
      "collapsed_sections": [],
      "name": "ClaimBuster-SVM-2.ipynb",
      "provenance": []
    },
    "kernelspec": {
      "display_name": "Python 3",
      "name": "python3"
    }
  },
  "nbformat": 4,
  "nbformat_minor": 0
}